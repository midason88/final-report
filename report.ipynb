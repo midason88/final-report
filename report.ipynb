def example(a) :
return a ** 2
def bmi(weight, height) :
bmi_value_<18.5:
return "저체중"
elif 18.5 <= bmi_value <= 22.9:
return "정상"
else:
return "과체중"
